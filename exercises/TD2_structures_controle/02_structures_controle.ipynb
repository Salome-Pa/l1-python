{
 "cells": [
  {
   "cell_type": "markdown",
   "metadata": {
    "slideshow": {
     "slide_type": "slide"
    }
   },
   "source": [
    "# TD 2: Les structures de contrôle\n",
    "\n",
    "---\n",
    "\n",
    "## 0. Récupération des nouveaux documents\n",
    "\n",
    "\n",
    "Les sujets de TD ainsi que les supports de cours sont publiés en ligne au fur et à mesure sur l'espace github original [https://github.com/uvsq-info/l1-python](https://github.com/uvsq-info/l1-python). Au moment où vous avez fait le fork de cet espace sur votre espace personnel, il est probable que tous les contenus n'étaient pas présents. Pour compléter votre espace, deux solutions sont possibles:\n",
    "\n",
    "\n",
    "1. (solution à privilégier) aller sur la page du projet original [https://github.com/uvsq-info/l1-python](https://github.com/uvsq-info/l1-python), et cliquer sur le bouton vert `Code` en haut à droite. Choisir `download ZIP`, puis extraire l'ensemble des nouveaux fichiers vers votre projet personnel local. Vous pouvez ensuite sauvegarder ces ajouts dans votre espace github personnel en suivant la procédure habituelle.\n",
    "2. (solution qui présente des risques de conflits entre différentes versions d'un même document) en ligne de commande dans le terminal, en suivant la procédure de la section *Intégrer les mises à jour du projet original* du fichier [README.md](https://github.com/uvsq-info/l1-python/blob/master/README.md#int%C3%A9grer-les-mises-%C3%A0-jour-du-projet-original)\n"
   ]
  },
  {
   "cell_type": "markdown",
   "metadata": {
    "slideshow": {
     "slide_type": "slide"
    }
   },
   "source": [
    "---\n",
    "\n",
    "## 1. Premiers exercices avec les structures conditionnelles\n",
    "\n",
    "**Exercice 1:**\n",
    "\n",
    "1. Soit *num1 = 15* et *num2 = 5*. Ecrire un programme qui affiche *Factors!* si l'un des nombres est un facteur de l'autre (c'est-à-dire qu'il divise l'autre nombre). Si aucun des nombres n'est un facteur de l'autre, le programme n'affiche rien.\n",
    "2. Changer le code que vous avez écrit de telle sorte qu'il affiche toujours *Factors!* si un nombre est un facteur de l'autre, mais qui affiche aussi *Not factors!* si aucun des nombres n'est un facteur de l'autre."
   ]
  },
  {
   "cell_type": "code",
   "execution_count": 21,
   "metadata": {
    "slideshow": {
     "slide_type": "notes"
    }
   },
   "outputs": [
    {
     "output_type": "stream",
     "name": "stdout",
     "text": [
      "Factors!\n"
     ]
    }
   ],
   "source": [
    "num1 = 15\n",
    "num2 = 5\n",
    "\n",
    "if (( num1 % num2 == 0 ) or ( num2 % num1 == 0 )):\n",
    "   print (\"Factors!\")\n",
    "else:\n",
    "    print (\"Not Factors!\")\n",
    "# FAIRE ATTENTION A LA LIGNE AVANT ELSE\n",
    "# PAS OUBLIER LES :"
   ]
  },
  {
   "cell_type": "markdown",
   "metadata": {
    "slideshow": {
     "slide_type": "slide"
    }
   },
   "source": [
    "**Exercice 2:**\n",
    "    \n",
    "Soit *state = \"Georgia\"*. Ecrire un programme qui permet d'afficher un message spécifique en fonction de la variable *state* :  \n",
    "* \"School isn't cancelled.\" si nous sommes à New Jersey,  \n",
    "* \"School is postponed.\" si nous sommes à North Carolina,\n",
    "* \"School is cancelled!\" si nous sommes à Georgia,  \n",
    "* \"School's status is unknown\" si nous ne sommes pas dans un des trois états précédemment mentionnés."
   ]
  },
  {
   "cell_type": "code",
   "execution_count": 22,
   "metadata": {
    "slideshow": {
     "slide_type": "notes"
    }
   },
   "outputs": [
    {
     "output_type": "error",
     "ename": "SyntaxError",
     "evalue": "invalid syntax (<ipython-input-22-9755588efc63>, line 1)",
     "traceback": [
      "\u001b[1;36m  File \u001b[1;32m\"<ipython-input-22-9755588efc63>\"\u001b[1;36m, line \u001b[1;32m1\u001b[0m\n\u001b[1;33m    place = {\"New Jersey\" :School isnt cancelled , \"North Carolina\" : School iss postponed. , \"Georgia\" : School iss cancelled!}\u001b[0m\n\u001b[1;37m                                  ^\u001b[0m\n\u001b[1;31mSyntaxError\u001b[0m\u001b[1;31m:\u001b[0m invalid syntax\n"
     ]
    }
   ],
   "source": [
    "place = {\"New Jersey\" :\"School isnt cancelled\" , \"North Carolina\" : \"School iss postponed\". , \"Georgia\" : \"School iss cancelled!\"}\n",
    "place = Georgia\n",
    "#mutuellement exclusif px mettre if partout\n",
    "# else a la fin car derniere possibilite\n",
    "#elif : contrairement if est exclusif\n",
    "\n",
    "if state == \"New Jersey\":\n",
    "    print (\"School isnt cancelled\") \n",
    "elif state == \"north carolina\"\n",
    "    print(\"School is postponed\")\n",
    "elif state == \"\"\n",
    "    print(\"\")\n",
    "else\n",
    "    print(\"\")"
   ]
  },
  {
   "cell_type": "markdown",
   "metadata": {
    "slideshow": {
     "slide_type": "slide"
    }
   },
   "source": [
    "**Exercice 3:**\n",
    "\n",
    "Ecrire un programme pour découvrir le signe du zodiaque chinois pour une année donnée. Le signe du zodiaque chinois est basé sur un cycle de 12 ans et chaque année de ce cycle est représentée par un animal :\n",
    "* 0: monkey\n",
    "* 1: rooster\n",
    "* 2: dog\n",
    "* 3: pig\n",
    "* 4: rat\n",
    "* 5: ox\n",
    "* 6: tiger\n",
    "* 7: rabbit\n",
    "* 8: dragon\n",
    "* 9: snake\n",
    "* 10: horse\n",
    "* 11: sheep\n",
    "\n",
    "La valeur de l'année % 12 détermine le signe du zodiaque. Par exemple, 1900 est l'année du *rat* puisque 1900 % 12 est 4."
   ]
  },
  {
   "cell_type": "code",
   "execution_count": 25,
   "metadata": {
    "slideshow": {
     "slide_type": "notes"
    }
   },
   "outputs": [
    {
     "output_type": "execute_result",
     "data": {
      "text/plain": [
       "'horse'"
      ]
     },
     "metadata": {},
     "execution_count": 25
    }
   ],
   "source": [
    "annees = {0: \"monkey\",\n",
    "1: \"rooster\",\n",
    "2: \"dog\",\n",
    "3: \"pig\",\n",
    "4: \"rat\",\n",
    "5: \"ox\",\n",
    "6: \"tiger\",\n",
    "7: \"rabbit\",\n",
    "8: \"dragon\",\n",
    "9: \"snake\",\n",
    "10: \"horse\",\n",
    "11: \"sheep\",\n",
    "}\n",
    "\n",
    "annees[2002 % 12]\n",
    "\n"
   ]
  },
  {
   "cell_type": "markdown",
   "metadata": {
    "slideshow": {
     "slide_type": "slide"
    }
   },
   "source": [
    "**Exercice 4:**\n",
    "\n",
    "Soit *temperature = -3.7* et *celsius = True*. *celsius* est une variable booléenne qui indique si la température est en Celsius; si c'est *False*, alors la température donnée est en Fahrenheit. Ecrire un premier programme en utilisant *if-else* seulement qui permet d'afficher *Freezing* si les valeurs données représentent une température très basse, et *Not freezing* si ce n'est pas le cas. En Celsius, on considère qu'il fait très froid lorsque la température est inférieure ou égale à 0 degré. En Fahrenheit, on considère qu'il fait très froid lorsque la température est inférieure ou égale à 32 degrés. Proposer une seconde solution en utilisant *if-elif-else* à ce même problème."
   ]
  },
  {
   "cell_type": "code",
   "execution_count": 27,
   "metadata": {
    "slideshow": {
     "slide_type": "notes"
    }
   },
   "outputs": [
    {
     "output_type": "stream",
     "name": "stdout",
     "text": [
      "hé haud\n"
     ]
    }
   ],
   "source": [
    "temperature = (int(input (\"annonce la temerature\")))\n",
    "celsius = True\n",
    "\n",
    "if celsius == True:\n",
    "    if temperature <= 0:\n",
    "        print(\"hé hroid\")\n",
    "    else:\n",
    "        print(\"hé haud\")\n",
    "else:\n",
    "    if temperature >= 32:\n",
    "        print(\"hé hroid\")\n",
    "    else:\n",
    "        print(\"hé haud\")\n",
    "\n",
    "#OU TCHECK CONDITIONS OU FAIT FROID ET SI PAS VRAI ALORS HE HAUD\n",
    "\n",
    "if (celsius and temperature <=0) or (not celcius and temperature <= 32):\n",
    "    print (\"he hroid\")\n",
    "else:\n",
    "    print(\"he haud\")"
   ]
  },
  {
   "cell_type": "markdown",
   "metadata": {
    "slideshow": {
     "slide_type": "slide"
    }
   },
   "source": [
    "**Exercice 5:**\n",
    "    \n",
    "Ecrire un programme qui permet de déterminer si une année est bissextile ou non en utilisant une seule instruction *if-else*. Une année *A* est bissextile si *A* est divisible par 4. Elle ne l’est cependant pas si *A* est un multiple\n",
    "de 100, à moins que *A* ne soit multiple de 400.    "
   ]
  },
  {
   "cell_type": "code",
   "execution_count": 30,
   "metadata": {
    "slideshow": {
     "slide_type": "notes"
    }
   },
   "outputs": [],
   "source": [
    "A= 1920\n",
    "\n",
    "#if (A % 4 == 0) and (A % 100 != 0) #sauf A % 400\n",
    "\n",
    "if (A% 4 == 0):\n",
    "    if (A% 100 != 0):\n",
    "        if (A % 400 == 0):\n",
    "            B = True\n",
    "        else:\n",
    "            B = False\n",
    "    B= True\n",
    "else:\n",
    "    B= False\n",
    "\n",
    "# plus compact\n",
    "\n",
    "if (A % 400 = 0) :\n",
    "    B = True\n",
    "elif (A % 4 == 0) and (A % 100 == 0):\n",
    "    B = False\n",
    "elif (A% 4 == 0)\n",
    "    B = True\n",
    "else:\n",
    "    B = False"
   ]
  },
  {
   "source": [
    "---\n",
    "\n",
    "## 2. Premiers exercices avec les structures itératives\n",
    "\n",
    "**Exercice 6:**\n",
    "\n",
    "1. Ecrire un programme qui permet d'afficher tous les nombres entre 1 et 10 (bornes incluses).\n",
    "2. Ecrire un programme se limitant à la boucle *for* qui permet d'afficher tous les nombres pairs entre 1 et 20 (bornes incluses). Proposer une deuxième solution en incluant une structure conditionnelle."
   ],
   "cell_type": "markdown",
   "metadata": {}
  },
  {
   "cell_type": "code",
   "execution_count": 36,
   "metadata": {},
   "outputs": [
    {
     "output_type": "stream",
     "name": "stdout",
     "text": [
      "2\n4\n6\n8\n10\n"
     ]
    }
   ],
   "source": [
    "for i in range(1, 10+1): # attention range prend jamais derniere valeur donc faire +1 sur dern\n",
    "    if (i % 2 == 0):\n",
    "        print(i)\n",
    "\n",
    "#range prend 3 argus : range(debut=0,fin,step=1)"
   ]
  },
  {
   "source": [
    "**Exercice 7:**\n",
    "    \n",
    "1. Ecrire un programme qui demande à l'utilisateur de saisir *n* nombres, *n* étant choisi par l'utilisateur, puis d'afficher la moyenne de ces nombres.\n",
    "\n",
    "2. Même question, mais l'utilisateur ne choisit pas à l'avance le nombre *n*, la procédure s'arrête quand il saisit le nombre -1.\n"
   ],
   "cell_type": "markdown",
   "metadata": {}
  },
  {
   "cell_type": "code",
   "execution_count": 41,
   "metadata": {},
   "outputs": [
    {
     "output_type": "stream",
     "name": "stdout",
     "text": [
      "67\n",
      "78\n",
      "1.164179104477612\n",
      "87\n",
      "1.2985074626865671\n"
     ]
    },
    {
     "output_type": "error",
     "ename": "ValueError",
     "evalue": "invalid literal for int() with base 10: ''",
     "traceback": [
      "\u001b[1;31m---------------------------------------------------------------------------\u001b[0m",
      "\u001b[1;31mValueError\u001b[0m                                Traceback (most recent call last)",
      "\u001b[1;32m<ipython-input-41-fef0eee3c2ef>\u001b[0m in \u001b[0;36m<module>\u001b[1;34m\u001b[0m\n\u001b[0;32m     10\u001b[0m \u001b[1;32mfor\u001b[0m \u001b[0mi\u001b[0m \u001b[1;32min\u001b[0m \u001b[0mrange\u001b[0m\u001b[1;33m(\u001b[0m\u001b[0mn\u001b[0m\u001b[1;33m)\u001b[0m\u001b[1;33m:\u001b[0m\u001b[1;33m\u001b[0m\u001b[1;33m\u001b[0m\u001b[0m\n\u001b[0;32m     11\u001b[0m     \u001b[0mnombre\u001b[0m\u001b[1;33m=\u001b[0m \u001b[0minput\u001b[0m\u001b[1;33m(\u001b[0m\u001b[1;34m\"donne un nbre salope\"\u001b[0m\u001b[1;33m)\u001b[0m\u001b[1;33m\u001b[0m\u001b[1;33m\u001b[0m\u001b[0m\n\u001b[1;32m---> 12\u001b[1;33m     \u001b[0mtotal\u001b[0m \u001b[1;33m+=\u001b[0m \u001b[0mint\u001b[0m\u001b[1;33m(\u001b[0m\u001b[0mnombre\u001b[0m\u001b[1;33m)\u001b[0m\u001b[1;33m\u001b[0m\u001b[1;33m\u001b[0m\u001b[0m\n\u001b[0m\u001b[0;32m     13\u001b[0m     \u001b[0mprint\u001b[0m\u001b[1;33m(\u001b[0m\u001b[0mtotal\u001b[0m\u001b[1;33m)\u001b[0m\u001b[1;33m\u001b[0m\u001b[1;33m\u001b[0m\u001b[0m\n\u001b[0;32m     14\u001b[0m \u001b[1;33m\u001b[0m\u001b[0m\n",
      "\u001b[1;31mValueError\u001b[0m: invalid literal for int() with base 10: ''"
     ]
    }
   ],
   "source": [
    "#recup un nbre n\n",
    "#recup n nbres diff\n",
    "#afficher moyenne de ces nbres\n",
    "\n",
    "n=input(\"N\")\n",
    "n= int(n)\n",
    "print(n)\n",
    "\n",
    "total = 0\n",
    "for i in range(n):\n",
    "    nombre= input(\"donne un nbre \")\n",
    "    total += int(nombre)\n",
    "    print(total)\n",
    "\n",
    "#memoire des nbres des boucles d avant\n",
    "    print(total/n)\n",
    "\n",
    "#OU UTILISER LISTE\n",
    "\n",
    "n=input(\"N\")\n",
    "n= int(n)\n",
    "\n",
    "liste= []\n",
    "for i in range(n):\n",
    "    nombre = input(\"donne un nbr\")\n",
    "    liste.apprend(int(nombre))\n"
   ]
  },
  {
   "cell_type": "code",
   "execution_count": null,
   "metadata": {},
   "outputs": [],
   "source": [
    "total= 0\n",
    "nombres =0\n",
    "while True:\n",
    "    nombre = input(\"donne nbre\")\n",
    "    nombre = int(nombre)\n",
    "    if nombre == -1:\n",
    "        break\n",
    "    total += nombre\n",
    "    nombres += 1\n",
    "    #break \n",
    "\n",
    "print(total/nombres)\n"
   ]
  },
  {
   "source": [
    "**Exercice 8:**\n",
    "\n",
    "Ecrire un programme qui permet de calculer le factoriel d'un nombre positif donné par l'utlisateur selon la formule suivante : \n",
    "n! = 1 x 2 x ... x n.  \n",
    "\n",
    "1. Une première version en utilisant la boucle *for*\n",
    "2. Une seconde version en utilisant la boucle *while*"
   ],
   "cell_type": "markdown",
   "metadata": {}
  },
  {
   "cell_type": "code",
   "execution_count": null,
   "metadata": {},
   "outputs": [],
   "source": [
    "\n",
    "a = (int(input(\"donne a\")))\n",
    "tot= 1\n",
    "\n",
    "while (a > 0):\n",
    "    tot *= a\n",
    "    a=a-1\n",
    "    \n",
    "\n",
    "print(tot)\n",
    "\n",
    "#ou for i in range (1, n+1):\n",
    "    #tot *=1"
   ]
  },
  {
   "cell_type": "code",
   "execution_count": null,
   "metadata": {},
   "outputs": [],
   "source": [
    "#5! = 5*4*3*2*1"
   ]
  },
  {
   "cell_type": "markdown",
   "metadata": {
    "slideshow": {
     "slide_type": "slide"
    }
   },
   "source": [
    "---\n",
    "\n",
    "## 3. Pour aller plus loin\n",
    "\n",
    "**Excercice 9:**\n",
    "\n",
    "Ecrire un programme qui permet de connaître le jour de naissance de l'utilisateur en posant cinq questions.\n",
    "Chaque question demande si le jour est dans l'un des cinq ensembles suivants :\n",
    "\n",
    "* Set 1: [1 3 5 7 9 11 13 15 17 19 21 23 25 27 29 31]\n",
    "* Set 2: [2 3 6 7 10 11 14 15 18 19 22 23 26 27 30 31]\n",
    "* Set 3: [4 5 6 7 12 13 14 15 20 21 22 23 28 29 30 31]\n",
    "* Set 4: [8 9 10 11 12 13 14 15 24 25 26 27 28 29 30 31]\n",
    "* Set 5: [16 17 18 19 20 21 22 23 24 25 26 27 28 29 30 31]\n",
    "    \n",
    "\n",
    "Le jour de naissance est la somme des premiers nombres dans les ensembles où le jour apparaît. Par exemple,\n",
    "si le jour de naissance est 19, il apparaît dans Set 1, Set 2 et Set 5. Les premiers chiffres de ces trois ensembles sont 1, 2 et 16. Leur somme est 19."
   ]
  },
  {
   "cell_type": "code",
   "execution_count": 2,
   "metadata": {
    "slideshow": {
     "slide_type": "notes"
    }
   },
   "outputs": [
    {
     "output_type": "stream",
     "name": "stdout",
     "text": [
      "\n your birthday is set in 1\n"
     ]
    }
   ],
   "source": [
    "day = 0\n",
    "# + \\ ajoute liste a la 1ere ligne\n",
    "question1 =  \"is your birthday in set 1? \\n\" + \\\n",
    "\"1 3 5 7 9 11 13\\n\" + \\\n",
    "\"15 17 19 21 23 25 27 29 31\\n\" + \\\n",
    "\"\\nEnter 0 for no and 1 for yes: \"\n",
    "answer = int(input(question1))\n",
    "\n",
    "if answer == 1 :\n",
    "    day += 1\n",
    "#faire la meme pr les autres listes\n",
    "\n",
    "print(\"\\n your birthday is set in \"+ str(day))"
   ]
  },
  {
   "cell_type": "markdown",
   "metadata": {
    "slideshow": {
     "slide_type": "slide"
    }
   },
   "source": [
    "**Excercice 10:**\n",
    "\n",
    "Ecrire un programme qui permet de génèrer de manière aléatoire un nombre à deux chiffres, invite l'utilisateur à saisir un nombre à deux chiffres et détermine si l'utilisateur gagne selon les règles suivantes :\n",
    "* Si l'entrée de l'utilisateur correspond à la loterie (le nombre généré aléatoirement) dans l'ordre exact, la récompense est de 10 000€.\n",
    "* Sinon, si les deux chiffres entrés par l'utilisateur correspondent aux deux chiffres du numéro de loterie, la récompense est de 3 000€.\n",
    "* Sinon, si un chiffre dans l'entrée de l'utilisateur correspond à un chiffre dans le numéro de loterie, la récompense est de 1 000€.\n",
    "\n",
    "**Astuce :** Utiliser la fonction **random.randint(0, 99)** pour génèrer de manière aléatoire un nombre à deux chiffres. Cette fonction doit être accompagné par **import random** comme première instruction dans le code."
   ]
  },
  {
   "cell_type": "code",
   "execution_count": 87,
   "metadata": {
    "slideshow": {
     "slide_type": "notes"
    }
   },
   "outputs": [
    {
     "output_type": "stream",
     "name": "stdout",
     "text": [
      "28\n",
      "t as gagne 10 000 euros connard\n"
     ]
    }
   ],
   "source": [
    "import random\n",
    "\n",
    "n = random.randint(0,99)\n",
    "c = int(input(\"donne un chiffre connard\"))\n",
    "u = n%10*10 + n//10\n",
    "deuxieme_chiffre_de_u_en_dizaine = u - n//10\n",
    "premier_chiffre_de_u = u - n%10*10\n",
    "\n",
    "\n",
    "if  n == c :\n",
    "    print(\"t as gagne 10 000 euros connard\")\n",
    "elif c == u :\n",
    "    print(\"3 000 balles mon con\")\n",
    "elif c == premier_chiffre_de_u or deuxieme_chiffre_de_u_en_dizaine :\n",
    "    print(\"1000 eu\")\n"
   ]
  },
  {
   "source": [
    "**Exercice 11:**\n",
    "    \n",
    "Ecrire un programme qui permet de calculer la somme des chiffres d'un entier *n* donné. Le nombre *n* doit être compris entre 10 et 20 (bornes incluses)."
   ],
   "cell_type": "markdown",
   "metadata": {}
  },
  {
   "cell_type": "code",
   "execution_count": 96,
   "metadata": {},
   "outputs": [
    {
     "output_type": "stream",
     "name": "stdout",
     "text": [
      "7\n"
     ]
    }
   ],
   "source": [
    "import random\n",
    "\n",
    "n = random.randint(10,20)\n",
    "n = n%10 + n//10\n",
    "print(n)\n",
    "\n",
    "#format prof:\n",
    "'''n= int(input(\"n\")\n",
    "while (n<10 or n >20) :\n",
    "    n = int(input(\"n\"))\n",
    "\n",
    "total = 0\n",
    "\n",
    "while != 0 :\n",
    "    x = n% 10\n",
    "    total += x\n",
    "    n /= 10\n",
    "\n",
    "print(\"the sum is\", total)'''"
   ]
  },
  {
   "source": [
    "**Exercice 12:**\n",
    "\n",
    "1. Ecrire un programme qui permet de générer aléatoirement deux nombres entre 0 et 9, de calculer leurs différences (en valeur absolue), puis d'inviter l'utilisateur à répondre à la question suivante *que vaut abs(number1 - number2)?*. Le programme doit permettre à l'utilisateur de répondre plusieurs fois jusqu'à la saisie de la bonne réponse.\n",
    "2. Modifier le programme précédent de telle sorte qu'il génère cinq occurences à la suite invitant à répondre à la question précédente. A la fin, le programme affiche le nombre moyen de tentatives qu'il a fallu à l'utilisateur pour répondre à une question."
   ],
   "cell_type": "markdown",
   "metadata": {}
  },
  {
   "cell_type": "code",
   "execution_count": 22,
   "metadata": {
    "tags": []
   },
   "outputs": [
    {
     "output_type": "stream",
     "name": "stdout",
     "text": [
      "0 5\n",
      "bravo t as win\n"
     ]
    }
   ],
   "source": [
    "import random\n",
    "n = random.randint(0,9)\n",
    "v = random.randint(0,9)\n",
    "\n",
    "if n>v :\n",
    "    tot= n-v\n",
    "else :\n",
    "    tot= v-n\n",
    "'''OU if n<v :\n",
    "      n,v = v,n '''\n",
    "\n",
    "test_utilisateur = int(input(\"que vaut\" + str(n) + \"-\" + str(v)))\n",
    "\n",
    "while test_utilisateur != tot :\n",
    "    test_utilisateur = int(input(\"que vaut\" + str(n) + \"-\" + str(v)))\n",
    "print(\"bravo t as win\")\n"
   ]
  },
  {
   "cell_type": "code",
   "execution_count": 20,
   "metadata": {
    "tags": []
   },
   "outputs": [
    {
     "output_type": "stream",
     "name": "stdout",
     "text": [
      "9 7\n",
      "bravo t as win\n",
      "4 6\n",
      "bravo t as win\n",
      "9 1\n",
      "bravo t as win\n",
      "6 7\n",
      "bravo t as win\n",
      "1 3\n",
      "bravo t as win\n",
      "2.0\n"
     ]
    }
   ],
   "source": [
    "import random\n",
    "\n",
    "nombre_test = 0\n",
    "\n",
    "for i in range (5):\n",
    "\n",
    "    n = random.randint(0,9)\n",
    "    v = random.randint(0,9)\n",
    "\n",
    "    if n>v :\n",
    "        tot= n-v\n",
    "    else :\n",
    "        tot= v-n\n",
    "\n",
    "    test_utilisateur = int(input(\"que vaut\" + str(n) + \"-\" + str(v)))\n",
    "    nombre_test += 1\n",
    "\n",
    "    while test_utilisateur != tot :\n",
    "          test_utilisateur = int(input(\"que vaut\" + str(n) + \"-\" + str(v)))\n",
    "          nombre_test += 1\n",
    "\n",
    "    print(\"bravo t as win\")\n",
    "print(nombre_test/5)"
   ]
  },
  {
   "source": [
    "**Exercice 13:**\n",
    "\n",
    "Ecrire un programme qui permet de calculer le nombre de mots dans une phrase saisie par l'utilisateur."
   ],
   "cell_type": "markdown",
   "metadata": {}
  },
  {
   "cell_type": "code",
   "execution_count": 43,
   "metadata": {
    "tags": []
   },
   "outputs": [
    {
     "output_type": "stream",
     "name": "stdout",
     "text": [
      "3\n"
     ]
    }
   ],
   "source": [
    "\n",
    "phrase = str(input(\"allez donne ta phrase la depeche x(\"))\n",
    "\n",
    "mots = 1\n",
    "for i in range(len(phrase)):\n",
    "    if phrase[i] == ' ':\n",
    "         mots += 1\n",
    "\n",
    "print(mots)\n",
    "\n",
    "#poserait pb que si espace sur dernier caractere de la phrase car le for i in range s arrete a len(phrase)-1"
   ]
  },
  {
   "cell_type": "code",
   "execution_count": 55,
   "metadata": {},
   "outputs": [
    {
     "output_type": "stream",
     "name": "stdout",
     "text": [
      "Afficher les valeurs dans l intervalle:\ni = 1\ni = 2\ni = 3\ni = 4\ni = 5\ni = 6\ni = 7\ni = 8\ni = 9\ni = 10\ni = 11\nTerminé\n"
     ]
    }
   ],
   "source": [
    "print('Afficher les valeurs dans l intervalle:')\n",
    "for i in range(0, 11) :\n",
    "    i += 1 #si pas ca dernier affiche i=10\n",
    "    print(\"i =\", i)\n",
    "print(\"Terminé\")"
   ]
  },
  {
   "cell_type": "code",
   "execution_count": 59,
   "metadata": {},
   "outputs": [
    {
     "output_type": "stream",
     "name": "stdout",
     "text": [
      "1 est impair\n3 est impair\n5 est impair\n7 est impair\n9 est impair\n11 est impair\n13 est impair\n15 est impair\n17 est impair\n19 est impair\nTerminé\n"
     ]
    }
   ],
   "source": [
    "#autre : continue\n",
    "for i in range(1, 21) :\n",
    "    if i % 2 == 0 :\n",
    "        continue\n",
    "        print(\"résultat?\")\n",
    "    print(i, \"est impair\")\n",
    "print(\"Terminé\")"
   ]
  },
  {
   "cell_type": "code",
   "execution_count": 60,
   "metadata": {},
   "outputs": [
    {
     "output_type": "stream",
     "name": "stdout",
     "text": [
      "1 est impair\nTerminé\n"
     ]
    }
   ],
   "source": [
    "#test break\n",
    "for i in range(1, 21) :\n",
    "    if i % 2 == 0 :\n",
    "        break\n",
    "    print(i, \"est impair\")\n",
    "print(\"Terminé\")"
   ]
  },
  {
   "cell_type": "code",
   "execution_count": 61,
   "metadata": {},
   "outputs": [
    {
     "output_type": "stream",
     "name": "stdout",
     "text": [
      "0\n1\n2\n3\n"
     ]
    }
   ],
   "source": [
    "cpt = 0\n",
    "while cpt <= 3: #le = permet d ariver a 3 au print\n",
    "    print(cpt)\n",
    "    cpt += 1"
   ]
  },
  {
   "cell_type": "code",
   "execution_count": 69,
   "metadata": {},
   "outputs": [
    {
     "output_type": "stream",
     "name": "stdout",
     "text": [
      "0 \n0 \n1 \n0 \n1 \n2 \n0 \n1 \n2 \n3 \n0 \n1 \n2 \n3 \n4 \n"
     ]
    }
   ],
   "source": [
    "for i in range(1, 6):\n",
    "    j = 0\n",
    "    while j < i:\n",
    "        print(j, end = \" \")\n",
    "        j += 1\n",
    "        print(\"\")# sert a sauter ligne\n",
    "\n",
    "#si avait pas :  , end = \" \"  et  print(\"\") meme resultat"
   ]
  },
  {
   "cell_type": "markdown",
   "metadata": {
    "slideshow": {
     "slide_type": "slide"
    }
   },
   "source": [
    "---\n",
    "\n",
    "## 4. Pour s'entraîner\n",
    "\n",
    "**Exercice 14:**\n",
    "    \n",
    "Soit la variable my_input = \"zoophysiology\". Ecrire un script qui permet d'afficher l'un des messages suivants en fonction du nombre maximum de *o* consécutifs dans la variable *my_input*. Par exemple, le script doit afficher \"I like studying birds! I want to become an ornithologist!\" parce qu'il y a deux *o* consécutifs, même s'il y a aussi des *o* individual.\n",
    "Ignorer les *o* majuscules - recherchez que les *o* minuscules.\n",
    "\n",
    "* Si \"o\" apparaît trois fois ou plus de suite, afficher le message \"I like going to the zoo!\"  \n",
    "* Si \"o\" apparaît deux fois, afficher le message \"I like studying birds! I want to become an ornithologist!\"  \n",
    "* Si \"o\" apparaît une seule fois, afficher le message \"I like studying fish! I want to become an ichthyologist!\"  \n",
    "* Si \"o\" n'apparaît pas dans la variable *my_input*, afficher le message \"I miss going to the zoo!\"  \n",
    "\n",
    "**Astuce :** Utiliser l'opérateur **in** qui renvoie **True** si la première chaîne se trouve dans la deuxième chaîne. "
   ]
  },
  {
   "cell_type": "code",
   "execution_count": 48,
   "metadata": {
    "slideshow": {
     "slide_type": "notes"
    }
   },
   "outputs": [],
   "source": [
    "phrase = \"zoophysiology\"\n",
    "\n",
    "for i in range(len(phrase)):\n",
    "    if phrase[i] == 'oo':\n",
    "        print(\"I like studying birds! I want to become an ornithologist!\")\n",
    "#marche pas jsp pk (affiche r)\n",
    "        "
   ]
  },
  {
   "cell_type": "code",
   "execution_count": 44,
   "metadata": {},
   "outputs": [
    {
     "output_type": "stream",
     "name": "stdout",
     "text": [
      "a\n"
     ]
    }
   ],
   "source": [
    "my_input = \"zoophysiology\"\n",
    "if \"ooo\" in my_input :\n",
    "    print(\"i like bdbd\")\n",
    "elif \"oo\" in my_input :\n",
    "    print(\"a\")"
   ]
  },
  {
   "cell_type": "markdown",
   "metadata": {
    "slideshow": {
     "slide_type": "slide"
    }
   },
   "source": [
    "**Exercice 15:**\n",
    "    \n",
    "Créer quatre variables nommées *team_1* et *team_2*, représentant deux noms d'équipes, et *team_1_score* et *team_2_score*, représentant les scores de ces deux équipes. \n",
    "Une équipe gagne si son score est supérieur à l'autre score de l'autre équipe.\n",
    " \n",
    "Ecrire un premier script qui permet d'afficher les messages suivants selon les valeurs entrées, ceci en utilisant seulement les quatres variables créées :\n",
    "* Si une équipe bat l'autre, affichez: \"[winner] beat [loser] by [margin]\"\n",
    "* Si aucune des équipes n'a gagné, affichez: \"[team_1] played [team_2] and it was a tie\"\n",
    "\n",
    "Ecrire un deuxième script qui permet d'afficher les mêmes messages mais en ajoutant trois variables de plus :\n",
    "* La variable *winner* pour définir l'équipe gagnante  \n",
    "* La variable *loser* pour définier l'équipe perdante  \n",
    "* La variable *margin* pour définir la différence entre les deux scores \n"
   ]
  },
  {
   "cell_type": "code",
   "execution_count": 73,
   "metadata": {
    "slideshow": {
     "slide_type": "notes"
    }
   },
   "outputs": [
    {
     "output_type": "stream",
     "name": "stdout",
     "text": [
      "team_2 beat team_1 by 2\n"
     ]
    }
   ],
   "source": [
    "team_1_score = int(input(\"score team 1\"))\n",
    "team_2_score = int(input(\"score team 2\"))\n",
    "\n",
    "if team_1_score > team_2_score :\n",
    "    print(\"team_1 beat team_2 by\", team_1_score - team_2_score)\n",
    "elif team_2_score > team_1_score :\n",
    "    print(\"team_2 beat team_1 by\", team_2_score - team_1_score)\n",
    "else:\n",
    "    print(\"team_1 played team_2 and it was a tie\")"
   ]
  },
  {
   "cell_type": "code",
   "execution_count": 82,
   "metadata": {
    "slideshow": {
     "slide_type": "notes"
    }
   },
   "outputs": [
    {
     "output_type": "stream",
     "name": "stdout",
     "text": [
      "team_2 beat team_1 by 13\n"
     ]
    }
   ],
   "source": [
    "#CORREC PROF\n",
    "\n",
    "team_1_score = (input(\"score team 1\"))\n",
    "team_1_score = int(team_1_score)\n",
    "\n",
    "team_2_score = (input(\"score team 2\"))\n",
    "team_2_score = int(team_2_score)\n",
    "\n",
    "if team_1_score > team_2_score :\n",
    "    winner = \"team_1\"\n",
    "    loser = \"team_2\"\n",
    "    margin = team_1_score - team_2_score\n",
    "\n",
    "else :\n",
    "    winner = \"team_2\"\n",
    "    loser = \"team_1\"\n",
    "    margin = team_2_score - team_1_score\n",
    "\n",
    "\n",
    "if margin == 0:\n",
    "    print(winner, \"played\", loser, \"and it was a tie\")\n",
    "else :\n",
    "    print(winner, \"beat\", loser, \"by\", margin)\n",
    "\n"
   ]
  },
  {
   "cell_type": "markdown",
   "metadata": {
    "slideshow": {
     "slide_type": "slide"
    }
   },
   "source": [
    "**Exercice 16:**\n",
    "    \n",
    "L'Indice de Masse Corporelle (IMC) permet d'estimer le poids idéal en fonction de la taille. Son calcul correspond au poids en kilogrammes divisé par le carré de la taille en mètre (IMC = poids en kg/taille² en m). Le chiffre obtenu permet d'estimer la corpulence et éventuellement le surpoids ou l'obésité chez l'adulte, homme ou femme.\n",
    "L'interprétation de l'IMC pour les personnes de 16 ans et plus est la suivante :\n",
    "* Moins de 18.5: Underweight\n",
    "* Entre 18.5 et 24.9: Normal\n",
    "* Entre 25.0 et 29.9: Overweight\n",
    "* Plus que 30.0: Obese\n",
    "\n",
    "Ecrire un programme qui permet de saisir un poids en *pounds* et une taille en *inches*, de calculer et d'afficher l'IMC à deux valeurs après la virgule, et d'afficher l'interprétation la plus adéquate. Notez qu'un *pound* équivaut à 0,45359237 kilogrammes et qu'un *inch* équivaut à 0,0254 mètre.  \n",
    "\n",
    "**Astuce :** Pour afficher deux valeurs après la virgule, utilisez la fonction **format(nom_variable, \".2f\")**. Exemple : **print('La moyenne est :', format(moyenne, \".2f\"))**"
   ]
  },
  {
   "source": [
    "**Exercice 17:**\n",
    "\n",
    "Ecrire un programme qui affiche un triangle d'étoiles de taille donnée, par exemple si on entre 6, le programme affiche:\n",
    "```\n",
    "*\n",
    "**\n",
    "***\n",
    "****\n",
    "*****\n",
    "******\n",
    "```"
   ],
   "cell_type": "markdown",
   "metadata": {}
  },
  {
   "cell_type": "code",
   "execution_count": 89,
   "metadata": {
    "tags": []
   },
   "outputs": [
    {
     "output_type": "stream",
     "name": "stdout",
     "text": [
      "*\n**\n***\n****\n"
     ]
    }
   ],
   "source": [
    "n = int(input(\"taille tri\"))\n",
    "for i in range(n):\n",
    "    print(((i + 1) * \"*\"))"
   ]
  },
  {
   "source": [
    "**Exercice 18:**\n",
    "\n",
    "Même exercice mais cette fois la sortie est\n",
    "```\n",
    "     *\n",
    "    **         \n",
    "   ***\n",
    "  ****\n",
    " *****\n",
    "******\n",
    "```"
   ],
   "cell_type": "markdown",
   "metadata": {}
  },
  {
   "cell_type": "code",
   "execution_count": 37,
   "metadata": {
    "tags": []
   },
   "outputs": [
    {
     "output_type": "stream",
     "name": "stdout",
     "text": [
      "     *\n    **\n   ***\n  ****\n *****\n******\n"
     ]
    }
   ],
   "source": [
    " n = 6\n",
    "\n",
    "for i in range(n): #i--> 0 1 2 3 4 5\n",
    "\n",
    "       print((n - i - 1) * \" \" + (i + 1) * \"*\")"
   ]
  },
  {
   "cell_type": "code",
   "execution_count": 1,
   "metadata": {},
   "outputs": [
    {
     "output_type": "stream",
     "name": "stdout",
     "text": [
      "wwwww\nwwww\nwww\nww\nw\n\n"
     ]
    }
   ],
   "source": [
    " n = 6\n",
    "\n",
    "for i in range(n):\n",
    "\n",
    "       print((n - i - 1) * \"w\")"
   ]
  },
  {
   "source": [
    "**Exercice 19:**\n",
    "\n",
    "Ecrire un programme qui calcule, étant donné un entier *n* rentré par l'utilisateur, la plus grande puissance de *n* inférieure à un million."
   ],
   "cell_type": "markdown",
   "metadata": {}
  },
  {
   "cell_type": "code",
   "execution_count": 49,
   "metadata": {},
   "outputs": [
    {
     "output_type": "stream",
     "name": "stdout",
     "text": [
      "la plus grosse puiss de 4 inf a 1M est 9\n"
     ]
    }
   ],
   "source": [
    "n = int(input(\"n\"))\n",
    "i = 0\n",
    "while (n ** i <= 1000000):\n",
    "    i += 1\n",
    "print(\"la plus grosse puiss de\", n, \"inf a 1M est\", i-1)\n",
    "#i-1 attention"
   ]
  },
  {
   "cell_type": "code",
   "execution_count": null,
   "metadata": {
    "tags": []
   },
   "outputs": [],
   "source": [
    "import random\n",
    "\n",
    "nombre_a_deviner = random.randint(1, 100)\n",
    "reponse_utilisateur = 0\n",
    "\n",
    "while not reponse_utilisateur == nombre_a_deviner :\n",
    "    reponse_utilisateur = int(input(\"Entrez un nombre:\"))\n",
    "    if reponse_utilisateur > nombre_a_deviner :\n",
    "        print(\"Trop grand!\")\n",
    "    elif reponse_utilisateur < nombre_a_deviner :\n",
    "        print(\"Trop petit!\")\n",
    "    else :\n",
    "        print(\"Bravo\")"
   ]
  },
  {
   "cell_type": "code",
   "execution_count": 5,
   "metadata": {},
   "outputs": [
    {
     "output_type": "stream",
     "name": "stdout",
     "text": [
      "Help on function multAndPlus in module __main__:\n\nmultAndPlus(n)\n    si l'argument est positif, le multiplie par 2 puis ensuite lui additionne 7.\n\n0\n"
     ]
    }
   ],
   "source": [
    "def multAndPlus(n):\n",
    "    '''si l'argument est positif, le multiplie par 2 puis ensuite lui additionne 7.'''\n",
    "    if (n > 0):\n",
    "        print(n * 2 + 7)\n",
    "    else:\n",
    "        print(0)\n",
    "\n",
    "help(multAndPlus)"
   ]
  },
  {
   "cell_type": "code",
   "execution_count": 7,
   "metadata": {},
   "outputs": [
    {
     "output_type": "stream",
     "name": "stdout",
     "text": [
      "15\n"
     ]
    }
   ],
   "source": [
    "var_glob = 5\n",
    "\n",
    "def produit(var_loc):\n",
    "    return var_loc * var_glob\n",
    "\n",
    "print(produit(3))"
   ]
  },
  {
   "cell_type": "code",
   "execution_count": 9,
   "metadata": {},
   "outputs": [
    {
     "output_type": "error",
     "ename": "SyntaxError",
     "evalue": "non-default argument follows default argument (<ipython-input-9-8c0ac1b0280d>, line 1)",
     "traceback": [
      "\u001b[1;36m  File \u001b[1;32m\"<ipython-input-9-8c0ac1b0280d>\"\u001b[1;36m, line \u001b[1;32m1\u001b[0m\n\u001b[1;33m    def timer(heure = 0, jour, annee = 2020):\u001b[0m\n\u001b[1;37m              ^\u001b[0m\n\u001b[1;31mSyntaxError\u001b[0m\u001b[1;31m:\u001b[0m non-default argument follows default argument\n"
     ]
    }
   ],
   "source": [
    "def timer(heure = 0, jour, annee = 2020):\n",
    "    print(\"année: \", annee)\n",
    "    print(\"jour: \", jour)\n",
    "    print(\"minutes: \", heure // 60)\n",
    "timer(6, 20)"
   ]
  },
  {
   "cell_type": "code",
   "execution_count": null,
   "metadata": {},
   "outputs": [],
   "source": []
  }
 ],
 "metadata": {
  "celltoolbar": "Diaporama",
  "kernelspec": {
   "display_name": "Python 3",
   "language": "python",
   "name": "python3"
  },
  "language_info": {
   "codemirror_mode": {
    "name": "ipython",
    "version": 3
   },
   "file_extension": ".py",
   "mimetype": "text/x-python",
   "name": "python",
   "nbconvert_exporter": "python",
   "pygments_lexer": "ipython3",
   "version": "3.8.5-final"
  }
 },
 "nbformat": 4,
 "nbformat_minor": 4
}